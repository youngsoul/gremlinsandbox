{
 "cells": [
  {
   "cell_type": "markdown",
   "metadata": {},
   "source": [
    "# Gremlin Getting Started\n",
    "\n",
    "# Tinkerpop, Gremlin, Python Example\n",
    "\n",
    "A sandbox repo of how to use Gremlin in Python against the Tinkerpop GraphDB.\n",
    "\n",
    "This repo assume you are running a local gremlin-server and the modern initialized db:\n",
    "\n",
    "```./bin/gremlin-server.sh conf/gremlin-server-modern.yaml```\n",
    "\n",
    "This will create the *modern* pre-initialized db as documented in the [Getting Started](http://tinkerpop.apache.org/docs/current/tutorials/getting-started/)\n",
    "## Apache Tinkerpop\n",
    "\n",
    "[Tinkerpop](http://tinkerpop.apache.org)\n",
    "\n",
    "Graph computing framework for both graph databases and graph analytic systems.\n",
    "\n",
    "From\n",
    "```\n",
    "Apache TinkerPop™ is an open source, vendor-agnostic, graph computing\n",
    "framework distributed under the commercial friendly Apache2 license.\n",
    " When a data system is TinkerPop-enabled, its users are able to model\n",
    " their domain as a graph and analyze that graph using the Gremlin\n",
    " graph traversal language.\n",
    "```\n",
    "\n",
    "\n",
    "## AWS Neptune\n",
    "\n",
    "All of this work in to get familiar with *Gremlin* in anticipation for working on the AWS Cloud GraphDB called *Neptune*\n",
    "\n",
    "```\n",
    "Amazon Neptune supports popular graph models Property Graph and\n",
    "W3C's RDF, and their respective query languages Apache TinkerPop Gremlin\n",
    "and SPARQL, allowing you to easily build queries that efficiently\n",
    "navigate highly connected datasets.\n",
    "```\n",
    "\n",
    "[AWS Neptune](https://docs.aws.amazon.com/neptune/latest/userguide/intro.html)\n",
    "\n",
    "Running locally first, to learn how to interface Python, Gremlin is faster and cheaper than hitting Neptune immediately.\n",
    "\n",
    "## Environment\n",
    "\n",
    "I created this on MacOS and Python 3.6.1, with Apache Tinkerpop 3.3.3\n",
    "\n",
    "## Instructions\n",
    "\n",
    "- First, run the gremlin server as shown above\n",
    "\n",
    "- Second, create a python virtualenv\n",
    "\n",
    "- Third, **install the requirements.txt**  pip install -r requirements.txt\n",
    "\n",
    "- Fourth, run the simple_test.py file.\n",
    "\n",
    "## Additional Reading\n",
    "\n",
    "- http://tinkerpop.apache.org/docs/current/tutorials/getting-started/\n",
    "- https://www.datastax.com/dev/blog/a-gremlin-implementation-of-the-gremlin-traversal-machine\n",
    "- https://kelvinlawrence.net/book/Gremlin-Graph-Guide.html\n",
    "- https://github.com/nedlowe/gremlin-python-example\n",
    "- http://tinkerpop.apache.org/docs/3.3.3/reference/#gremlin-python\n",
    "- https://docs.aws.amazon.com/neptune/latest/userguide/intro.html"
   ]
  },
  {
   "cell_type": "markdown",
   "metadata": {},
   "source": [
    "### Start Gremlin Server\n",
    "\n",
    "There is a shell script: *start_gremlin.sh* that you can change for your local installation.\n",
    "\n",
    "This script will start the GraphDB with an initialized set of Vertex and Edges, the *modern* data set as described in the *Getting Started* guide ( link above )\n",
    "\n",
    "![Modern GraphDB](images/ModernGraphDB.png)"
   ]
  },
  {
   "cell_type": "code",
   "execution_count": 2,
   "metadata": {},
   "outputs": [],
   "source": [
    "from gremlin_python import statics\n",
    "from gremlin_python.structure.graph import Graph\n",
    "from gremlin_python.process.traversal import T, P, Operator, Order\n",
    "from gremlin_python.driver.driver_remote_connection import DriverRemoteConnection\n"
   ]
  },
  {
   "cell_type": "code",
   "execution_count": 3,
   "metadata": {},
   "outputs": [],
   "source": [
    "# Helper function to return the properties of a Vertex as a json document\n",
    "# as the TODO says, there seems like there should be an easier way to do this\n",
    "def vertex_to_json(vertex):\n",
    "    # TODO - Almost certainly a better way of doing this\n",
    "    # True - include the Vertex properties: id, name\n",
    "    values = vertex.valueMap(True).toList()[0]\n",
    "    # values[\"id\"] = vertex.id\n",
    "    return values\n"
   ]
  },
  {
   "cell_type": "markdown",
   "metadata": {},
   "source": [
    "### Create Graph object and create a GraphTraversal instance\n",
    "\n",
    "This notebook does assume you are running the gremlin server locally and that you have started the server already."
   ]
  },
  {
   "cell_type": "code",
   "execution_count": 4,
   "metadata": {},
   "outputs": [],
   "source": [
    "graph = Graph()\n",
    "g = graph.traversal().withRemote(DriverRemoteConnection('ws://localhost:8182/gremlin','g'))"
   ]
  },
  {
   "cell_type": "markdown",
   "metadata": {},
   "source": [
    "At this point *g* is the interface to the Graph database."
   ]
  },
  {
   "cell_type": "markdown",
   "metadata": {},
   "source": [
    "Get a list of all Vertex objects in the graphDB.  Since this is small this is not an issue"
   ]
  },
  {
   "cell_type": "code",
   "execution_count": 5,
   "metadata": {},
   "outputs": [
    {
     "data": {
      "text/plain": [
       "[v[1], v[2], v[3], v[4], v[5], v[6]]"
      ]
     },
     "execution_count": 5,
     "metadata": {},
     "output_type": "execute_result"
    }
   ],
   "source": [
    "g.V().toList()"
   ]
  },
  {
   "cell_type": "markdown",
   "metadata": {},
   "source": [
    "#### toList\n",
    "\n",
    "V() returns an iterable that we have to iterate through of use something like toList to actually get the values.\n",
    "\n",
    "The Vertex objects return are the *shallow* Vertex objects and only contain the *id* and *label* of the Vertex.  None of the additional properties are returned.  For those properties you have to fetch the actual Vertex by id."
   ]
  },
  {
   "cell_type": "code",
   "execution_count": 6,
   "metadata": {},
   "outputs": [
    {
     "name": "stdout",
     "output_type": "stream",
     "text": [
      "<class 'gremlin_python.process.graph_traversal.GraphTraversal'>\n"
     ]
    }
   ],
   "source": [
    "v1 = g.V(1)\n",
    "print(type(v1))"
   ]
  },
  {
   "cell_type": "markdown",
   "metadata": {},
   "source": [
    "Notice the type of the Vertex returned - it is a GraphTraversal - which means it is actually an iterable to the Vertex that we have to unwrap."
   ]
  },
  {
   "cell_type": "code",
   "execution_count": 7,
   "metadata": {},
   "outputs": [
    {
     "name": "stdout",
     "output_type": "stream",
     "text": [
      "[v[1]]\n",
      "<class 'list'>\n"
     ]
    }
   ],
   "source": [
    "v1 = v1.toList()\n",
    "print(v1)\n",
    "print(type(v1))"
   ]
  },
  {
   "cell_type": "markdown",
   "metadata": {},
   "source": [
    "But this only returns a list of 1 Vertex that we still have to index to get."
   ]
  },
  {
   "cell_type": "code",
   "execution_count": 8,
   "metadata": {},
   "outputs": [],
   "source": [
    "v1 = v1[0]"
   ]
  },
  {
   "cell_type": "code",
   "execution_count": 9,
   "metadata": {},
   "outputs": [
    {
     "name": "stdout",
     "output_type": "stream",
     "text": [
      "<class 'gremlin_python.structure.graph.Vertex'>\n",
      "v[1]\n"
     ]
    }
   ],
   "source": [
    "print(type(v1))\n",
    "print(v1)"
   ]
  },
  {
   "cell_type": "code",
   "execution_count": 10,
   "metadata": {},
   "outputs": [
    {
     "ename": "AttributeError",
     "evalue": "'Vertex' object has no attribute 'valueMap'",
     "output_type": "error",
     "traceback": [
      "\u001b[0;31m---------------------------------------------------------------------------\u001b[0m",
      "\u001b[0;31mAttributeError\u001b[0m                            Traceback (most recent call last)",
      "\u001b[0;32m<ipython-input-10-5fe17a1c16b2>\u001b[0m in \u001b[0;36m<module>\u001b[0;34m()\u001b[0m\n\u001b[0;32m----> 1\u001b[0;31m \u001b[0mprint\u001b[0m\u001b[0;34m(\u001b[0m\u001b[0mvertex_to_json\u001b[0m\u001b[0;34m(\u001b[0m\u001b[0mv1\u001b[0m\u001b[0;34m)\u001b[0m\u001b[0;34m)\u001b[0m\u001b[0;34m\u001b[0m\u001b[0m\n\u001b[0m",
      "\u001b[0;32m<ipython-input-3-e22f671d40c8>\u001b[0m in \u001b[0;36mvertex_to_json\u001b[0;34m(vertex)\u001b[0m\n\u001b[1;32m      4\u001b[0m     \u001b[0;31m# TODO - Almost certainly a better way of doing this\u001b[0m\u001b[0;34m\u001b[0m\u001b[0;34m\u001b[0m\u001b[0m\n\u001b[1;32m      5\u001b[0m     \u001b[0;31m# True - include the Vertex properties: id, name\u001b[0m\u001b[0;34m\u001b[0m\u001b[0;34m\u001b[0m\u001b[0m\n\u001b[0;32m----> 6\u001b[0;31m     \u001b[0mvalues\u001b[0m \u001b[0;34m=\u001b[0m \u001b[0mvertex\u001b[0m\u001b[0;34m.\u001b[0m\u001b[0mvalueMap\u001b[0m\u001b[0;34m(\u001b[0m\u001b[0;32mTrue\u001b[0m\u001b[0;34m)\u001b[0m\u001b[0;34m.\u001b[0m\u001b[0mtoList\u001b[0m\u001b[0;34m(\u001b[0m\u001b[0;34m)\u001b[0m\u001b[0;34m[\u001b[0m\u001b[0;36m0\u001b[0m\u001b[0;34m]\u001b[0m\u001b[0;34m\u001b[0m\u001b[0m\n\u001b[0m\u001b[1;32m      7\u001b[0m     \u001b[0;31m# values[\"id\"] = vertex.id\u001b[0m\u001b[0;34m\u001b[0m\u001b[0;34m\u001b[0m\u001b[0m\n\u001b[1;32m      8\u001b[0m     \u001b[0;32mreturn\u001b[0m \u001b[0mvalues\u001b[0m\u001b[0;34m\u001b[0m\u001b[0m\n",
      "\u001b[0;31mAttributeError\u001b[0m: 'Vertex' object has no attribute 'valueMap'"
     ]
    }
   ],
   "source": [
    "print(vertex_to_json(v1))"
   ]
  },
  {
   "cell_type": "markdown",
   "metadata": {},
   "source": [
    "How can that be?  I have a Vertex object but there is no *valueMap* attribute.  To get to the actual additional properties, you do not unwrap the Vertex object.\n",
    "\n",
    "Using the GraphTraversal iterable, pass that into vertex_to_json, to get the valueMap and then call toList."
   ]
  },
  {
   "cell_type": "code",
   "execution_count": 11,
   "metadata": {},
   "outputs": [],
   "source": [
    "v1 = g.V(1)\n",
    "v1_json = vertex_to_json(v1)"
   ]
  },
  {
   "cell_type": "code",
   "execution_count": 12,
   "metadata": {},
   "outputs": [
    {
     "name": "stdout",
     "output_type": "stream",
     "text": [
      "{'name': ['marko'], <T.id: 1>: 1, <T.label: 3>: 'person', 'age': [29]}\n"
     ]
    }
   ],
   "source": [
    "print(v1_json)"
   ]
  },
  {
   "cell_type": "markdown",
   "metadata": {},
   "source": [
    "Get each of the values from the Vertex"
   ]
  },
  {
   "cell_type": "code",
   "execution_count": 14,
   "metadata": {},
   "outputs": [
    {
     "name": "stdout",
     "output_type": "stream",
     "text": [
      "['marko']\n"
     ]
    }
   ],
   "source": [
    "print(v1_json['name'])"
   ]
  },
  {
   "cell_type": "code",
   "execution_count": 15,
   "metadata": {},
   "outputs": [
    {
     "name": "stdout",
     "output_type": "stream",
     "text": [
      "[29]\n"
     ]
    }
   ],
   "source": [
    "print(v1_json['age'])"
   ]
  },
  {
   "cell_type": "code",
   "execution_count": 16,
   "metadata": {},
   "outputs": [
    {
     "name": "stdout",
     "output_type": "stream",
     "text": [
      "1\n"
     ]
    }
   ],
   "source": [
    "print(v1_json[T.id])"
   ]
  },
  {
   "cell_type": "code",
   "execution_count": 17,
   "metadata": {},
   "outputs": [
    {
     "name": "stdout",
     "output_type": "stream",
     "text": [
      "person\n"
     ]
    }
   ],
   "source": [
    "print(v1_json[T.label])"
   ]
  },
  {
   "cell_type": "markdown",
   "metadata": {},
   "source": [
    "Get a count of all of the Vertex objects.  Notice that we have to call *next* because the return from count is an iterable, and we need to step through to get the next value."
   ]
  },
  {
   "cell_type": "code",
   "execution_count": 18,
   "metadata": {},
   "outputs": [
    {
     "name": "stdout",
     "output_type": "stream",
     "text": [
      "6\n"
     ]
    }
   ],
   "source": [
    "c = g.V().count().next()\n",
    "print(c)"
   ]
  },
  {
   "cell_type": "raw",
   "metadata": {},
   "source": [
    "For each shallow Vertex returned, print the details"
   ]
  },
  {
   "cell_type": "code",
   "execution_count": 19,
   "metadata": {},
   "outputs": [
    {
     "name": "stdout",
     "output_type": "stream",
     "text": [
      "V[id, label]: 1, person\n",
      "\t{'name': ['marko'], <T.id: 1>: 1, <T.label: 3>: 'person', 'age': [29]}\n",
      "\n",
      "\n",
      "V[id, label]: 2, person\n",
      "\t{'name': ['vadas'], <T.id: 1>: 2, <T.label: 3>: 'person', 'age': [27]}\n",
      "\n",
      "\n",
      "V[id, label]: 3, software\n",
      "\t{'name': ['lop'], <T.id: 1>: 3, 'lang': ['java'], <T.label: 3>: 'software'}\n",
      "\n",
      "\n",
      "V[id, label]: 4, person\n",
      "\t{'name': ['josh'], <T.id: 1>: 4, <T.label: 3>: 'person', 'age': [32]}\n",
      "\n",
      "\n",
      "V[id, label]: 5, software\n",
      "\t{'name': ['ripple'], <T.id: 1>: 5, 'lang': ['java'], <T.label: 3>: 'software'}\n",
      "\n",
      "\n",
      "V[id, label]: 6, person\n",
      "\t{'name': ['peter'], <T.id: 1>: 6, <T.label: 3>: 'person', 'age': [35]}\n",
      "\n",
      "\n"
     ]
    }
   ],
   "source": [
    "for x in g.V():\n",
    "    print(f'V[id, label]: {x.id}, {x.label}')\n",
    "    print(f'\\t{vertex_to_json(g.V(x.id))}')\n",
    "    print('\\n')\n"
   ]
  },
  {
   "cell_type": "markdown",
   "metadata": {},
   "source": [
    "Get the details for a single Vertex in one line"
   ]
  },
  {
   "cell_type": "code",
   "execution_count": 20,
   "metadata": {},
   "outputs": [
    {
     "name": "stdout",
     "output_type": "stream",
     "text": [
      "{'name': ['lop'], <T.id: 1>: 3, 'lang': ['java'], <T.label: 3>: 'software'}\n"
     ]
    }
   ],
   "source": [
    "values = g.V(3).valueMap(True).toList()[0]\n",
    "print(values)"
   ]
  },
  {
   "cell_type": "markdown",
   "metadata": {},
   "source": [
    "### Using the GraphDB to answer questions about the data\n",
    "\n",
    "Lets look at how to use the graphdb and Gremlin syntax to answer questions about the data.  Using the edges we can start to find relationships in the data that might otherwise be difficult to uncover."
   ]
  },
  {
   "cell_type": "markdown",
   "metadata": {},
   "source": [
    "#### How many people does Marko know?"
   ]
  },
  {
   "cell_type": "code",
   "execution_count": 21,
   "metadata": {},
   "outputs": [
    {
     "name": "stdout",
     "output_type": "stream",
     "text": [
      "2\n"
     ]
    }
   ],
   "source": [
    "count = g.V().has('name','marko').out('knows').count().next()\n",
    "print(count)"
   ]
  },
  {
   "cell_type": "markdown",
   "metadata": {},
   "source": [
    "The above statement says, find all of the Vertex objects that has a *name* property with value *marko*.  For each of those Vertex objects, follow the outbound edge called *knows* and count them.\n",
    "\n",
    "Remember the API always returns an iterable, so we have to step next to get the actual values."
   ]
  },
  {
   "cell_type": "markdown",
   "metadata": {},
   "source": [
    "#### What are the names of the people that Marko knows?"
   ]
  },
  {
   "cell_type": "code",
   "execution_count": 22,
   "metadata": {},
   "outputs": [
    {
     "name": "stdout",
     "output_type": "stream",
     "text": [
      "['vadas', 'josh']\n"
     ]
    }
   ],
   "source": [
    "people = g.V(1).outE('knows').inV().values('name').toList()\n",
    "print(people)"
   ]
  },
  {
   "cell_type": "markdown",
   "metadata": {},
   "source": [
    "The above statement can be interpreted as:\n",
    "get the Vertex with id=1.  Take the outbound edge labeled, 'knows'.  At this point you can assume you are actually on the edge.  Next, the *inV* call says to traverse into the inbound Vertex, and get the 'names' property.\n",
    "\n",
    "If you do not need to stop at the edge, you can call:\n",
    "\n",
    "*.out('knows')* which is the same as *.outE('knows').inV()*\n"
   ]
  },
  {
   "cell_type": "code",
   "execution_count": 24,
   "metadata": {},
   "outputs": [
    {
     "name": "stdout",
     "output_type": "stream",
     "text": [
      "['vadas', 'josh']\n"
     ]
    }
   ],
   "source": [
    "people = g.V(1).out('knows').values('name').toList()\n",
    "print(people)"
   ]
  },
  {
   "cell_type": "markdown",
   "metadata": {},
   "source": [
    "#### Who does Marko know that is older than 30"
   ]
  },
  {
   "cell_type": "code",
   "execution_count": 25,
   "metadata": {},
   "outputs": [
    {
     "name": "stdout",
     "output_type": "stream",
     "text": [
      "['josh']\n"
     ]
    }
   ],
   "source": [
    "people = g.V(1).out('knows').has('age', P.gt(30)).values('name').toList()\n",
    "print(people)"
   ]
  },
  {
   "cell_type": "markdown",
   "metadata": {},
   "source": [
    "#### list the people that are older than 30 from olders to youngest\n",
    "\n",
    "In this example, there is no traversal.  We are just searching for any Vertex of label *person* that is greater than age 30, and order them oldest to youngest."
   ]
  },
  {
   "cell_type": "code",
   "execution_count": 26,
   "metadata": {},
   "outputs": [
    {
     "name": "stdout",
     "output_type": "stream",
     "text": [
      "['peter', 'josh']\n"
     ]
    }
   ],
   "source": [
    "people = g.V().hasLabel('person').has('age',P.gt(30)).order().by('age',Order.decr).values('name').toList()\n",
    "print(people)"
   ]
  },
  {
   "cell_type": "markdown",
   "metadata": {},
   "source": [
    "By importing the statics of Gremlin-Python, the class prefixes (e.g. P, Order) can be omitted.\n",
    "for example P.gt because gt and Order.decr becomes decr, but the IDE has no idea and flags\n",
    "them as an error - but it will execute.\n"
   ]
  },
  {
   "cell_type": "code",
   "execution_count": 27,
   "metadata": {},
   "outputs": [],
   "source": [
    "statics.load_statics(globals())"
   ]
  },
  {
   "cell_type": "markdown",
   "metadata": {},
   "source": [
    "Same query as above, without the usage of the static **P, Order**"
   ]
  },
  {
   "cell_type": "code",
   "execution_count": 28,
   "metadata": {},
   "outputs": [
    {
     "name": "stdout",
     "output_type": "stream",
     "text": [
      "['peter', 'josh']\n"
     ]
    }
   ],
   "source": [
    "people = g.V().hasLabel('person').has('age',gt(30)).order().by('age',decr).values('name').toList()\n",
    "print(people)"
   ]
  },
  {
   "cell_type": "markdown",
   "metadata": {},
   "source": [
    "#### What is the average age of the friends of the people who created LinkedProcess?"
   ]
  },
  {
   "cell_type": "code",
   "execution_count": 29,
   "metadata": {},
   "outputs": [
    {
     "name": "stdout",
     "output_type": "stream",
     "text": [
      "29.5\n"
     ]
    }
   ],
   "source": [
    "avg_age = g.V().has('name','lop').in_('created').out('knows').dedup().age.mean().next()\n",
    "print(avg_age)"
   ]
  },
  {
   "cell_type": "markdown",
   "metadata": {},
   "source": [
    "The above statement can be interpreted as, get the Vertex with the name or *lop*.  For all input edges with label *created* go to the source Vertex.  From those Vertex objects follow the outbound edges labeled, *knows*.  Deduplicate the Vertex objects, get the *age* property and average all of the values."
   ]
  },
  {
   "cell_type": "markdown",
   "metadata": {},
   "source": [
    "#### Rank all people by how central they are in the knows-subgraph."
   ]
  },
  {
   "cell_type": "code",
   "execution_count": 30,
   "metadata": {},
   "outputs": [
    {
     "name": "stdout",
     "output_type": "stream",
     "text": [
      "{'vadas': 4, 'josh': 4, 'marko': 8}\n"
     ]
    }
   ],
   "source": [
    "people = g.V().hasLabel('person').repeat(both('knows')).times(5).groupCount().by('name').next()\n",
    "print(people)"
   ]
  },
  {
   "cell_type": "code",
   "execution_count": null,
   "metadata": {},
   "outputs": [],
   "source": []
  }
 ],
 "metadata": {
  "kernelspec": {
   "display_name": "Python 3",
   "language": "python",
   "name": "python3"
  },
  "language_info": {
   "codemirror_mode": {
    "name": "ipython",
    "version": 3
   },
   "file_extension": ".py",
   "mimetype": "text/x-python",
   "name": "python",
   "nbconvert_exporter": "python",
   "pygments_lexer": "ipython3",
   "version": "3.6.3"
  }
 },
 "nbformat": 4,
 "nbformat_minor": 2
}
